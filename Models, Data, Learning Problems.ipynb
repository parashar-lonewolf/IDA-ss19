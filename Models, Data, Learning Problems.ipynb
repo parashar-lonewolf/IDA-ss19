{
  "nbformat": 4,
  "nbformat_minor": 0,
  "metadata": {
    "colab": {
      "name": "Models, Data, Learning Problems.ipynb",
      "version": "0.3.2",
      "provenance": [],
      "include_colab_link": true
    },
    "language_info": {
      "codemirror_mode": {
        "name": "ipython",
        "version": 3
      },
      "file_extension": ".py",
      "mimetype": "text/x-python",
      "name": "python",
      "nbconvert_exporter": "python",
      "pygments_lexer": "ipython3",
      "version": "3.7.1"
    },
    "kernelspec": {
      "display_name": "Python 3",
      "language": "python",
      "name": "python3"
    }
  },
  "cells": [
    {
      "cell_type": "markdown",
      "metadata": {
        "id": "view-in-github",
        "colab_type": "text"
      },
      "source": [
        "<a href=\"https://colab.research.google.com/github/parashar-lonewolf/IDA-ss19/blob/master/Models%2C%20Data%2C%20Learning%20Problems.ipynb\" target=\"_parent\"><img src=\"https://colab.research.google.com/assets/colab-badge.svg\" alt=\"Open In Colab\"/></a>"
      ]
    },
    {
      "cell_type": "markdown",
      "metadata": {
        "id": "XGXEVj8SfbbL",
        "colab_type": "text"
      },
      "source": [
        "# Models, Data, Learning Problems\n",
        "\n",
        "Welcome to the first lab of the lecture \"Intelligent Data Analysis I\". In this lab we start our first data analysis on a concrete problem. We are using Fisher's famous <a href=\"https://en.wikipedia.org/wiki/Iris_flower_data_set\">Iris data set</a>. The goal is to classify flowers from the Iris family into one of three species, that look as follows:\n",
        "\n",
        "<table>\n",
        "<tr>\n",
        "<td> <img src=\"https://github.com/parashar-lonewolf/IDA-ss19/blob/master/figures/iris_setosa.jpg?raw=1\" width=\"200\" style=\"height:150px\"/> </td>\n",
        "<td> <img src=\"https://github.com/parashar-lonewolf/IDA-ss19/blob/master/figures/iris_versicolor.jpg?raw=1\" width=\"200\" style=\"height:150px\"/> </td>\n",
        "<td> <img src=\"https://github.com/parashar-lonewolf/IDA-ss19/blob/master/figures/iris_virginica.jpg?raw=1\" width=\"200\" style=\"height:150px\"/> </td>\n",
        "</tr>\n",
        "\n",
        "<tr> \n",
        "<td>Iris Setosa</td>\n",
        "<td>Iris Versicolor</td>\n",
        "<td>Iris Virginica</td>\n",
        "</tr>\n",
        "</table>\n",
        "\n",
        "Our data set contains 50 flowers from each class, thus 150 in total. There are four features, the length and width of the petal (dt. Kronblatt) and sepal (dt. Kelchblatt) in centimetres.\n",
        "\n",
        "<img src=\"https://github.com/parashar-lonewolf/IDA-ss19/blob/master/figures/petal_sepal.jpg?raw=1\" width=\"400\" style=\"height:300px\"/>\n",
        "\n",
        "Your goal is to go through the notebook, understand premade code and text as well as filling blanks and exercises left for you. You may also edit the notebook as you wish. A good way to learn is to add comments (lines starting with #) or modifying the code and see what changes."
      ]
    },
    {
      "cell_type": "markdown",
      "metadata": {
        "id": "eT9YYhVBfbbV",
        "colab_type": "text"
      },
      "source": [
        "The data set is distributed with sci-kit learn, the only thing we have to do is to important a function and call it."
      ]
    },
    {
      "cell_type": "code",
      "metadata": {
        "id": "p86uhSWOfbbZ",
        "colab_type": "code",
        "outputId": "e6567bd2-d728-4d30-b368-a6f7944e0366",
        "colab": {
          "base_uri": "https://localhost:8080/",
          "height": 134
        }
      },
      "source": [
        "from sklearn.datasets import load_iris\n",
        "\n",
        "data = load_iris()\n",
        "X = data.data\n",
        "y = data.target\n",
        "print(type(X))\n",
        "print(X.shape)\n",
        "\n",
        "print(\"First three rows of data\\n {}\".format(X[:3]))\n",
        "print(\"First three labels: {}\".format(y[:3]))"
      ],
      "execution_count": 1,
      "outputs": [
        {
          "output_type": "stream",
          "text": [
            "<class 'numpy.ndarray'>\n",
            "(150, 4)\n",
            "First three rows of data\n",
            " [[5.1 3.5 1.4 0.2]\n",
            " [4.9 3.  1.4 0.2]\n",
            " [4.7 3.2 1.3 0.2]]\n",
            "First three labels: [0 0 0]\n"
          ],
          "name": "stdout"
        }
      ]
    },
    {
      "cell_type": "markdown",
      "metadata": {
        "id": "ShGV10xSfbb0",
        "colab_type": "text"
      },
      "source": [
        " Not only do we get the input matrix $X \\in \\mathbb{R}^{150 \\times 4}$ and target $y \\in \\mathbb{R}^{150}$, but also meta information such as what the class labels $0, 1, 2$ stand for and what the features (i.e. columns of $X$) correspond to."
      ]
    },
    {
      "cell_type": "code",
      "metadata": {
        "id": "HSQ18fgAfbb4",
        "colab_type": "code",
        "outputId": "08850dd2-73f3-4a27-9f75-7b74d562b8c1",
        "colab": {
          "base_uri": "https://localhost:8080/",
          "height": 50
        }
      },
      "source": [
        "print (data.target_names)\n",
        "print(data.feature_names)"
      ],
      "execution_count": 2,
      "outputs": [
        {
          "output_type": "stream",
          "text": [
            "['setosa' 'versicolor' 'virginica']\n",
            "['sepal length (cm)', 'sepal width (cm)', 'petal length (cm)', 'petal width (cm)']\n"
          ],
          "name": "stdout"
        }
      ]
    },
    {
      "cell_type": "markdown",
      "metadata": {
        "id": "PnBx54mefbcJ",
        "colab_type": "text"
      },
      "source": [
        "As a first step we focus our analysis on the first two variables, the sepal length and sepal width. Since we obtain a representation of the data in two dimensions, we are able to plot it. "
      ]
    },
    {
      "cell_type": "code",
      "metadata": {
        "id": "TcrU6zkRfbcM",
        "colab_type": "code",
        "colab": {}
      },
      "source": [
        "X_2 = X[:, :2]\n",
        "y_2 = y"
      ],
      "execution_count": 0,
      "outputs": []
    },
    {
      "cell_type": "code",
      "metadata": {
        "id": "cCMCr71CfbcZ",
        "colab_type": "code",
        "outputId": "e922e92a-d106-4488-db01-7078a40c806e",
        "colab": {
          "base_uri": "https://localhost:8080/",
          "height": 392
        }
      },
      "source": [
        "# Configures Jupyter to show graphics in the notebook\n",
        "%matplotlib inline\n",
        "import matplotlib.pyplot as plt # standard import\n",
        "\n",
        "# We write a function so we can reuse it later.\n",
        "def generate_scatter_plot(X, y):\n",
        "    class_names = data.target_names\n",
        "    class_colours = ['blue','yellow','green']\n",
        "\n",
        "    fig = plt.figure(figsize=(12, 6)) # increase size of plot\n",
        "    \n",
        "    for i, class_colour in enumerate(class_colours):\n",
        "        # plot the points only of this class label\n",
        "        plt.scatter(X[y == i, 0], X[y == i, 1], c=class_colour, label=class_names[i]) \n",
        "\n",
        "    plt.xlabel(data.feature_names[0]) # label the axis\n",
        "    plt.ylabel(data.feature_names[1])\n",
        "    plt.legend(loc=\"best\") # with legend\n",
        "\n",
        "generate_scatter_plot(X_2, y)"
      ],
      "execution_count": 4,
      "outputs": [
        {
          "output_type": "display_data",
          "data": {
            "image/png": "[encoded data removed]",
            "text/plain": [
              "<Figure size 864x432 with 1 Axes>"
            ]
          },
          "metadata": {
            "tags": []
          }
        }
      ]
    },
    {
      "cell_type": "markdown",
      "metadata": {
        "id": "M5l7b0sIfbco",
        "colab_type": "text"
      },
      "source": [
        "We see that we could discriminate the iris setosa linearly from other two species. The linear function could even have a slope of about $1$. Let us substitute the first feature with the difference of the two features."
      ]
    },
    {
      "cell_type": "code",
      "metadata": {
        "id": "bc2gogQofbcr",
        "colab_type": "code",
        "outputId": "e0089d16-a754-409f-c18a-99813982b39e",
        "colab": {
          "base_uri": "https://localhost:8080/",
          "height": 425
        }
      },
      "source": [
        "import numpy as np\n",
        "x_new = X[:, 0] - X[:, 1]\n",
        "X_new = np.column_stack((x_new, X[:, 1]))\n",
        "print (X_new.shape)\n",
        "generate_scatter_plot(X_new, y)\n",
        "plt.xlabel(\"sepal length - sepal width\")"
      ],
      "execution_count": 5,
      "outputs": [
        {
          "output_type": "stream",
          "text": [
            "(150, 2)\n"
          ],
          "name": "stdout"
        },
        {
          "output_type": "execute_result",
          "data": {
            "text/plain": [
              "Text(0.5, 0, 'sepal length - sepal width')"
            ]
          },
          "metadata": {
            "tags": []
          },
          "execution_count": 5
        },
        {
          "output_type": "display_data",
          "data": {
            "image/png": "[encoded data removed]",
            "text/plain": [
              "<Figure size 864x432 with 1 Axes>"
            ]
          },
          "metadata": {
            "tags": []
          }
        }
      ]
    },
    {
      "cell_type": "markdown",
      "metadata": {
        "id": "PuC67z1Xfbc5",
        "colab_type": "text"
      },
      "source": [
        "Remember that our main goal is to find a model,\n",
        "\n",
        "$$ y_\\theta: X \\rightarrow Y $$\n",
        "\n",
        "such that $y_\\theta(x)$ models the knowledge we got from our training data plus the inductive bias. The plot gives the decision rule (or part of): \"If sepal length - sepal width <= 2.2 => Classify iris setosa\".\n",
        "\n",
        "<b>Exercise 1:</b>\n",
        "\n",
        "\n",
        "Implement the naive decision rule as given above. If the condition for iris setosa is not fulfilled, classify the result as 'iris versicolor'."
      ]
    },
    {
      "cell_type": "code",
      "metadata": {
        "id": "o_xTbfLxOaw0",
        "colab_type": "code",
        "outputId": "bcc456c2-2121-4bed-c41f-8758602248c1",
        "colab": {
          "base_uri": "https://localhost:8080/",
          "height": 84
        }
      },
      "source": [
        "##Initial binary rule based classification for X based on rule:\n",
        "## If sepal length - sepal width <= 2.2 then Classify iris setosa\n",
        "##  else  classify the result as 'iris versicolor'\n",
        "## modified rule based classification for X based on rule:\n",
        "## If sepal length - sepal width <= 2.2 then Classify iris setosa\n",
        "##  else:\n",
        "##       if petal length * petal width <= 8 then classify 'iris virginica'\n",
        "##       else classify the result as 'iris versicolor'\n",
        "##       X info: X = data.data\n",
        "##               y = data.target\n",
        "print(X[0:2])\n",
        "print (data.target_names)\n",
        "print(data.feature_names)"
      ],
      "execution_count": 6,
      "outputs": [
        {
          "output_type": "stream",
          "text": [
            "[[5.1 3.5 1.4 0.2]\n",
            " [4.9 3.  1.4 0.2]]\n",
            "['setosa' 'versicolor' 'virginica']\n",
            "['sepal length (cm)', 'sepal width (cm)', 'petal length (cm)', 'petal width (cm)']\n"
          ],
          "name": "stdout"
        }
      ]
    },
    {
      "cell_type": "code",
      "metadata": {
        "id": "EoDnBEfm3Y-9",
        "colab_type": "code",
        "colab": {}
      },
      "source": [
        "## experiments with the data to find a better rulke based function\n",
        "# x_new = X[:, 0] - X[:, 1] - 2.2\n",
        "# x_new = np.column_stack((x_new, (X[:, 2]*X[:,3])-8))\n",
        "# print(x_new)\n",
        "# generate_scatter_plot(x_new, y)\n",
        "# plt.xlabel(\"sepal length - sepal width - 2.2\")\n",
        "# plt.ylabel(\"petal length * petal width\") "
      ],
      "execution_count": 0,
      "outputs": []
    },
    {
      "cell_type": "code",
      "metadata": {
        "id": "ibuAEByzw_k4",
        "colab_type": "code",
        "colab": {}
      },
      "source": [
        "## experiments with the data to find a better rulke based function\n",
        "# x = X.copy()\n",
        "# f1 = x[:, 0] - x[:, 1] - 2.2\n",
        "# f2 = (x[:, 2]*x[:,3])-8\n",
        "# x_new = np.column_stack((f1,f2))\n",
        "# y1 = f1[f1<=0]\n",
        "# print(f1.shape)\n",
        "# y2 = f2[(f2<0)&(f2>=-6)]\n",
        "# print(f2.shape)"
      ],
      "execution_count": 0,
      "outputs": []
    },
    {
      "cell_type": "code",
      "metadata": {
        "id": "jXSHaqR0fbc8",
        "colab_type": "code",
        "colab": {}
      },
      "source": [
        "def naive_decision_rule(x):\n",
        "    # X matrix with 4 dimensional columns\n",
        "    f1 = x[0] - x[1] - 2.2\n",
        "    for i in range(0,150):\n",
        "      if f1 <=0:\n",
        "         return 0\n",
        "      else:\n",
        "        return 1\n",
        "    # returns for each row of X the expected class label (0 = setosa, 1 = versicolor, 2 = virginica)\n",
        "    # FILL IN\n",
        "#     return 1"
      ],
      "execution_count": 0,
      "outputs": []
    },
    {
      "cell_type": "markdown",
      "metadata": {
        "id": "-VZvkPNVfbdG",
        "colab_type": "text"
      },
      "source": [
        "The following function takes a decision rule (or model) and a matrix of data points to generate the predictions for this matrix."
      ]
    },
    {
      "cell_type": "code",
      "metadata": {
        "id": "2uYaLwCOfbdJ",
        "colab_type": "code",
        "outputId": "ed690c2e-2264-4575-c449-32a7ae03dfce",
        "colab": {
          "base_uri": "https://localhost:8080/",
          "height": 100
        }
      },
      "source": [
        "def predict(model, X):\n",
        "    \"\"\"Builds prediction on a matrix X given a model for each data point in a row.\n",
        "    Returns a flat vector of predictions.\n",
        "    \"\"\"\n",
        "    return np.apply_along_axis(model, axis=1, arr=X)\n",
        "\n",
        "y_pred = predict(naive_decision_rule, X)\n",
        "print(y_pred)"
      ],
      "execution_count": 10,
      "outputs": [
        {
          "output_type": "stream",
          "text": [
            "[0 0 0 0 0 0 0 0 0 0 0 0 0 0 0 0 0 0 0 0 0 0 0 0 0 0 0 0 0 0 0 0 0 0 0 0 0\n",
            " 0 0 0 0 0 0 0 0 0 0 0 0 0 1 1 1 1 1 1 1 1 1 1 1 1 1 1 1 1 1 1 1 1 1 1 1 1\n",
            " 1 1 1 1 1 1 1 1 1 1 1 1 1 1 1 1 1 1 1 1 1 1 1 1 1 1 1 1 1 1 1 1 1 1 1 1 1\n",
            " 1 1 1 1 1 1 1 1 1 1 1 1 1 1 1 1 1 1 1 1 1 1 1 1 1 1 1 1 1 1 1 1 1 1 1 1 1\n",
            " 1 1]\n"
          ],
          "name": "stdout"
        }
      ]
    },
    {
      "cell_type": "markdown",
      "metadata": {
        "id": "3E0I8PqAfbdZ",
        "colab_type": "text"
      },
      "source": [
        "The predictions of the first 50 numbers should be zero and one for all others. Now we have to judge the quality of our model, we do this by using the zero-loss function of the lecture.\n",
        "\n",
        "<b>Exercise 2:</b>\n",
        "\n",
        "Implement the zero loss function as defined in the lecture,\n",
        "$$ \n",
        "\\begin{align}\n",
        "l(x, y; \\theta) &= l_{0/1}(y_\\theta(x_i), y_i) = \\begin{cases} 0, & \\mbox{ if } y_\\theta(x_i) = y_i \\\\ 1, & \\mbox{ otherwise } \\end{cases} \\\\\n",
        "l(X, y, theta) &= \\sum_i{ l(x_i, y_i; \\theta). }\n",
        "\\end{align}\n",
        "$$\n",
        "In lay-man terms one counts how often the label predicted differed from the observed label."
      ]
    },
    {
      "cell_type": "code",
      "metadata": {
        "id": "etz8xOY0fbdd",
        "colab_type": "code",
        "colab": {}
      },
      "source": [
        "def zero_one_loss(y_pred, y_true):\n",
        "#   print(y_pred, y_true)\n",
        "  sum = 0\n",
        "  for x, y in zip(y_pred, y_true):\n",
        "    if x != y:\n",
        "      sum +=1\n",
        "  return sum\n",
        "    # FILL IN\n",
        "#     return -1"
      ],
      "execution_count": 0,
      "outputs": []
    },
    {
      "cell_type": "code",
      "metadata": {
        "id": "1teZnsOufbdm",
        "colab_type": "code",
        "outputId": "0456d488-ed1f-4128-edb8-527d8fc53b19",
        "colab": {
          "base_uri": "https://localhost:8080/",
          "height": 33
        }
      },
      "source": [
        "print('The 0-1-loss of the naive decision rule is ' + str(zero_one_loss(y_pred, y)) + ' (should be 50)')"
      ],
      "execution_count": 12,
      "outputs": [
        {
          "output_type": "stream",
          "text": [
            "The 0-1-loss of the naive decision rule is 50 (should be 50)\n"
          ],
          "name": "stdout"
        }
      ]
    },
    {
      "cell_type": "markdown",
      "metadata": {
        "id": "4PiMBjXRfbdx",
        "colab_type": "text"
      },
      "source": [
        "<b>Exercise 3:</b>\n",
        "\n",
        "Improve the decision rule to have a maximum number of missclassifications of $10$. As an informal constraint use \"Occams Razor\" as an inductive bias, i.e. as simplest as possible.\n",
        "\n",
        "<b>Discussion topic:</b> Why could a complex model with zero missclassifications perform worse in reality (we got out and measure new flowers) than a simple model with more misclassifications?"
      ]
    },
    {
      "cell_type": "code",
      "metadata": {
        "id": "1es8mF5dfbd0",
        "colab_type": "code",
        "colab": {}
      },
      "source": [
        "# Place for your analysis.\n",
        "def my_decision_rule(x):\n",
        "    # FILL IN\n",
        "    f1 = x[0] - x[1] - 2.2\n",
        "    f2 = (x[2]*x[3])-8\n",
        "    for i in range(0,150):\n",
        "      if f1 <=0:\n",
        "         return 0\n",
        "      else:\n",
        "          if f2 > 0:\n",
        "            return 2\n",
        "          else:\n",
        "            return 1\n",
        "    return 1"
      ],
      "execution_count": 0,
      "outputs": []
    },
    {
      "cell_type": "code",
      "metadata": {
        "id": "oHFDGBfrfbd9",
        "colab_type": "code",
        "outputId": "890834f4-48d7-4316-a3aa-2ba287b0c85e",
        "colab": {
          "base_uri": "https://localhost:8080/",
          "height": 134
        }
      },
      "source": [
        "# Evaluation script\n",
        "y_pred = predict(my_decision_rule, X)\n",
        "print (y_pred)\n",
        "loss = zero_one_loss(y_pred, y)\n",
        "print (\"Your loss {}.\".format(loss))\n",
        "\n",
        "if loss <= 10:\n",
        "    print(\"You have made it!\")\n",
        "else:\n",
        "    print(\"Uhm, try again. Maybe you have flipped some class?\")"
      ],
      "execution_count": 14,
      "outputs": [
        {
          "output_type": "stream",
          "text": [
            "[0 0 0 0 0 0 0 0 0 0 0 0 0 0 0 0 0 0 0 0 0 0 0 0 0 0 0 0 0 0 0 0 0 0 0 0 0\n",
            " 0 0 0 0 0 0 0 0 0 0 0 0 0 1 1 1 1 1 1 1 1 1 1 1 1 1 1 1 1 1 1 1 1 2 1 1 1\n",
            " 1 1 1 2 1 1 1 1 1 2 1 1 1 1 1 1 1 1 1 1 1 1 1 1 1 1 2 2 2 2 2 2 1 2 2 2 2\n",
            " 2 2 2 2 2 2 2 2 1 2 2 2 2 2 2 2 2 2 2 2 2 2 1 1 2 2 2 2 2 2 2 2 2 2 2 2 2\n",
            " 2 2]\n",
            "Your loss 7.\n",
            "You have made it!\n"
          ],
          "name": "stdout"
        }
      ]
    },
    {
      "cell_type": "code",
      "metadata": {
        "id": "vxB855bUXLfs",
        "colab_type": "code",
        "colab": {}
      },
      "source": [
        ""
      ],
      "execution_count": 0,
      "outputs": []
    }
  ]
}